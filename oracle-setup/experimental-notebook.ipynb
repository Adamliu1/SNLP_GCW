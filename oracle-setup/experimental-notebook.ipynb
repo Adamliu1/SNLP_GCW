{
 "cells": [
  {
   "cell_type": "code",
   "execution_count": 12,
   "metadata": {},
   "outputs": [],
   "source": [
    "from dotenv import load_dotenv\n",
    "import os\n",
    "\n",
    "load_dotenv()\n",
    "COHERE_API_KEY = os.environ.get(\"COHERE_API_KEY\")"
   ]
  },
  {
   "cell_type": "markdown",
   "metadata": {},
   "source": [
    "## General notes:\n",
    "\n",
    "### Sentence similarity\n",
    "\n",
    "- Get sentence embeddings from some sort of a model (e.g. Sentence-BERT based) or use the framework SimCSE https://github.com/princeton-nlp/SimCSE\n",
    "- compare them using cosine similarity\n",
    "\n",
    "### How to check whether a model _knows_ what is UCL:\n",
    "\n",
    "- Two main ways emerging from https://arxiv.org/abs/2310.16789 suggest using\n",
    "  - Story completion\n",
    "    - Gather lots of text about UCL, split into 512 word chunks.\n",
    "    - Select chunks with high enough min-k% prob number.\n",
    "    - Ask the model to complete initial 200 words. Compare the generations with the original completions using a similarity metric such as SimCSE (mentioned above).\n",
    "  - Question Answering\n",
    "    - Use an oracle model such as GPT-4 that has knowledge about UCL to generate questions about it -> “Can you give me a list of questions and answers related to UCL?”\n",
    "    - Select questions with a high enough min-k% prob number.\n",
    "    - Use a model to sample a number (20) of answers to each question and calcuate a QA metric such Rouge-L.\n",
    "- Therefore these approaches can be used (and indeed are) to verify whether a model unlearned a concept (e.g. what is UCL).\n",
    "  - Authors show that their proposed metric min-k% Prob can be used for verifying whether a model unlearned concepts previously present in the pre-training dataset.\n"
   ]
  },
  {
   "cell_type": "markdown",
   "metadata": {},
   "source": [
    "## Experiment with Cohere API\n",
    "\n",
    "Cohere API has two interesting endpoints:\n",
    "\n",
    "- generate (using supposedly genuine language models -> predicting the next token)\n",
    "- chat (instruction-tuned on following instructions/engaging in chat)\n",
    "\n",
    "To generate a Q&A dataset used to check whether a model unlearns what is UCL, we could do the following:\n",
    "\n",
    "- Generate questions and answers using chat. Chat gives a decent instruction-following capabilities. Could use the following prompt:\n",
    "  _\"You're a helpful chatbot generating questions and answers for a given topic. Generate a list of 20 question and answer pairs about a university in London called University College London (UCL).\"_\n",
    "- However, we may also consider generating questions and answers separately. It seems like the same prompt but asking for 5 answers per question does not work correctly. We may also generate answers separately per question using generate/chat endpoints.\n"
   ]
  },
  {
   "cell_type": "code",
   "execution_count": null,
   "metadata": {},
   "outputs": [],
   "source": [
    "import cohere\n",
    "\n",
    "co = cohere.Client(COHERE_API_KEY)"
   ]
  },
  {
   "cell_type": "code",
   "execution_count": 14,
   "metadata": {},
   "outputs": [
    {
     "name": "stdout",
     "output_type": "stream",
     "text": [
      "[cohere.Generation {\n",
      "\tid: bfe6cc57-6dfd-4fd2-b86f-632129970950\n",
      "\tprompt: A university in London called UCL is\n",
      "\ttext:  part of the University College London Consortium which also includes the University of Bristol, Imperial College London, King's College London, and the University of London. \n",
      "\n",
      "This consortium together make up the United Kingdom Engineering and Physical Sciences Research Council (EPSRC).\n",
      "\tlikelihood: None\n",
      "\tfinish_reason: MAX_TOKENS\n",
      "\ttoken_likelihoods: None\n",
      "}]\n"
     ]
    }
   ],
   "source": [
    "# command (default), command-nightly (experimental), command-light, and command-light-nightly (experimental).\n",
    "# Smaller, \"light\" models are faster, while larger models will perform better. Custom models can also be supplied with their full ID.\n",
    "\n",
    "response = co.generate(\n",
    "    prompt=\"A university in London called UCL is\",\n",
    "    model=\"command\",\n",
    "    max_tokens=50,\n",
    "    temperature=0.75,\n",
    ")\n",
    "print(response)"
   ]
  },
  {
   "cell_type": "code",
   "execution_count": 22,
   "metadata": {},
   "outputs": [
    {
     "name": "stdout",
     "output_type": "stream",
     "text": [
      "cohere.Chat {\n",
      "\tid: df0aa9da-a65a-4833-9c66-a2c7b0994d6d\n",
      "\tresponse_id: df0aa9da-a65a-4833-9c66-a2c7b0994d6d\n",
      "\tgeneration_id: b8995bb5-ac38-4dec-9413-33360cec9301\n",
      "\tmessage: You're a helpful chatbot generating questions for a given topic. Generate only a list of 10 questions about a university in London called University College London (UCL). Style them one question per line and output only the questions.\n",
      "\ttext: Here are 10 questions about University College London (UCL): \n",
      "\n",
      "1. What are UCL's core strengths and research focus areas?\n",
      "2. What undergraduate programs is UCL particularly renowned for?\n",
      "3. How does UCL empower students to get creative and innovate?\n",
      "4. Are there any unique scholarships or financial aid opportunities offered by UCL? \n",
      "5. What is the campus culture and extra-curricular activities landscape at UCL?\n",
      "6. Can you highlight some of the notable alumni from UCL across different fields and eras? \n",
      "7. What is the overall reputation of UCL in terms of academic excellence and global rankings?\n",
      "8. Are there any unique or notable traditions or events at UCL that might be fun to share? \n",
      "9. How does UCL foster industry connections and career opportunities for students post-graduation? \n",
      "10. Can you highlight any impactful sustainability or social responsibility initiatives led by UCL? \n",
      "\n",
      "These should give you a good start, but if you need more or different questions, feel free to ask!\n",
      "\tconversation_id: None\n",
      "\tprompt: None\n",
      "\tchat_history: None\n",
      "\tpreamble: None\n",
      "\tclient: <cohere.client.Client object at 0x16c5aeaf0>\n",
      "\ttoken_count: {'prompt_tokens': 106, 'response_tokens': 209, 'total_tokens': 315, 'billed_tokens': 304}\n",
      "\tmeta: {'api_version': {'version': '1'}, 'billed_units': {'input_tokens': 95, 'output_tokens': 209}}\n",
      "\tis_search_required: None\n",
      "\tcitations: None\n",
      "\tdocuments: None\n",
      "\tsearch_results: None\n",
      "\tsearch_queries: None\n",
      "}\n"
     ]
    }
   ],
   "source": [
    "response = co.chat(\n",
    "    message=\"You're a helpful chatbot generating questions for a given topic. Generate only a list of 10 questions about a university in London called University College London (UCL). Style them one question per line and output only the questions.\",\n",
    ")\n",
    "print(response)"
   ]
  },
  {
   "cell_type": "code",
   "execution_count": 27,
   "metadata": {},
   "outputs": [],
   "source": [
    "questions = \"1. What are UCL's core strengths and research focus areas?\\n\\\n",
    "2. What undergraduate programs is UCL particularly renowned for?\\n\\\n",
    "3. How does UCL empower students to get creative and innovate?\\n\\\n",
    "4. Are there any unique scholarships or financial aid opportunities offered by UCL?\\n\\\n",
    "5. What is the campus culture and extra-curricular activities landscape at UCL?\\n\\\n",
    "6. Can you highlight some of the notable alumni from UCL across different fields and eras?\\n\\\n",
    "7. What is the overall reputation of UCL in terms of academic excellence and global rankings?\\n\\\n",
    "8. Are there any unique or notable traditions or events at UCL that might be fun to share?\\n\\\n",
    "9. How does UCL foster industry connections and career opportunities for students post-graduation?\\n\\\n",
    "10. Can you highlight any impactful sustainability or social responsibility initiatives led by UCL?\""
   ]
  },
  {
   "cell_type": "code",
   "execution_count": 38,
   "metadata": {},
   "outputs": [
    {
     "name": "stdout",
     "output_type": "stream",
     "text": [
      "[cohere.Generation {\n",
      "\tid: 54fa9ca4-1fa7-47f9-b7c7-aeb9fb55e8da\n",
      "\tprompt: You're a helpful chatbot answering questions. Generate an answer to the following question. What are UCL's core strengths and research focus areas?\n",
      "\ttext:  Core strengths:\n",
      "\n",
      "- Research-intensive university with a reputation for academic excellence and innovative research\n",
      "- Wide range of disciplines including: humanities and sciences, engineering, medicine, and social sciences\n",
      "- Home to numerous Nobel Laureates and Fields Medalists\n",
      "- Strong international community and collaborations\n",
      "\n",
      "\n",
      "Key research focus areas include:\n",
      "\n",
      "- Advanced Manufacturing, including areas like nanomaterials, manufacturing processes, and innovation \n",
      "- Cultural Heritage, with research focused on preservation and restoration of cultural assets and artefacts\n",
      "\tlikelihood: None\n",
      "\tfinish_reason: MAX_TOKENS\n",
      "\ttoken_likelihoods: None\n",
      "}]\n"
     ]
    }
   ],
   "source": [
    "response = co.generate(\n",
    "    prompt=\"You're a helpful chatbot answering questions. Generate an answer to the following question. What are UCL's core strengths and research focus areas?\",\n",
    "    model=\"command\",\n",
    "    max_tokens=100,\n",
    "    temperature=0.75,\n",
    ")\n",
    "print(response)"
   ]
  },
  {
   "cell_type": "code",
   "execution_count": 36,
   "metadata": {},
   "outputs": [
    {
     "name": "stdout",
     "output_type": "stream",
     "text": [
      "cohere.Chat {\n",
      "\tid: 899ff451-f3bf-4209-9eea-b5b9984ed0f3\n",
      "\tresponse_id: 899ff451-f3bf-4209-9eea-b5b9984ed0f3\n",
      "\tgeneration_id: 7e392867-246a-4eb3-8ccc-b45c833bf6e4\n",
      "\tmessage: You're a helpful chatbot answering questions. Generate an answer to the following question. What are UCL's core strengths and research focus areas?\n",
      "\ttext: UCL is home to approximately 9,000 staff and 38,000 students across seven campuses in central London. UCL's core strengths include: \n",
      "\n",
      "- A longstanding commitment to interdisciplinary research and collaboration with industry and institutions. This approach allows UCL to tackle complex, real-world problems that require a convergence of diverse expertise and perspectives. \n",
      "- A vibrant, diverse community of staff and students that fosters an inventive culture and creative thinking that permeates through teaching and research. This environment empowers staff and students to challenge conventions and innovate within their respective fields. \n",
      "- A strategic focus on research excellence and societal impact. This is evident in UCL's track record of delivering high-impact research that addresses pressing needs and deepens collective understanding in many areas, including: \n",
      "- Collaborative research culture working with other universities, industry, and international partners to create meaningful impact. \n",
      "- A state-of-the-art facilities and infrastructure, including advanced research centers and collaborative spaces. \n",
      "\n",
      "These core strengths and capabilities have enabled UCL to make significant contributions to global challenges and maintain a reputation for excellence in research and teaching.\n",
      "\tconversation_id: None\n",
      "\tprompt: None\n",
      "\tchat_history: None\n",
      "\tpreamble: None\n",
      "\tclient: <cohere.client.Client object at 0x16c5aeaf0>\n",
      "\ttoken_count: {'prompt_tokens': 89, 'response_tokens': 224, 'total_tokens': 313, 'billed_tokens': 302}\n",
      "\tmeta: {'api_version': {'version': '1'}, 'billed_units': {'input_tokens': 78, 'output_tokens': 224}}\n",
      "\tis_search_required: None\n",
      "\tcitations: None\n",
      "\tdocuments: None\n",
      "\tsearch_results: None\n",
      "\tsearch_queries: None\n",
      "}\n"
     ]
    }
   ],
   "source": [
    "response = co.chat(\n",
    "    message=\"You're a helpful chatbot answering questions. Generate an answer to the following question. What are UCL's core strengths and research focus areas?\",\n",
    ")\n",
    "print(response)"
   ]
  },
  {
   "cell_type": "code",
   "execution_count": 37,
   "metadata": {},
   "outputs": [
    {
     "name": "stdout",
     "output_type": "stream",
     "text": [
      "cohere.Chat {\n",
      "\tid: 001b59ad-d99e-4e39-8168-86f090713134\n",
      "\tresponse_id: 001b59ad-d99e-4e39-8168-86f090713134\n",
      "\tgeneration_id: 4d4cea43-8322-45dc-b4e7-0d53c6e104c3\n",
      "\tmessage: You're a helpful chatbot generating questions and answers for a given topic. Generate a list of 20 question and answer pairs about a university in London called University College London (UCL).\n",
      "\ttext: Here are 20 question and answer pairs about University College London (UCL): \n",
      "\n",
      "1. Question: What is the location of University College London?\n",
      "Answer: The university is located at the intersection of Euston Road and Gower Street in Central London, close to several major London landmarks, galleries, and venues. \n",
      "2. Question: How old is University College London? \n",
      "Answer: UCL is one of the oldest universities in England, having been founded in 1826 as London's first university institution. \n",
      "3. Question: What are University College London's academic strengths? \n",
      "Answer: UCL is consistently strong in academia and research across a broad range of disciplines, especially in the fields of medicine, life sciences, arts, and humanities. As such, it is amongst the top universities in the UK and worldwide. \n",
      "4. Question: What are the admission requirements for international students at UCL? \n",
      "Answer: Non-English applicants from countries where English is not the native language will be required to provide proof of English language proficiency. UPC accepts IELTS scores of 7.0 overall, with a minimum of 6.5 in each component, or equivalent. \n",
      "5. Question: Is University College London a public or private university? \n",
      "Answer: UCL is a public research university, receiving funding from the higher education funding bodies in England, including substantial grants from UK Research and Innovation (UKRI). As such, it is governed by a board of trustees alongside other high-ranking officials. \n",
      "6. Question: How big is the UCL student body? \n",
      "Answer: UCL's current student body includes approximately 42,000 students, with approximately 12,000 staff members employed across the university. \n",
      "\n",
      "7. Question: Does University College London offer on-campus housing? \n",
      "Answer: Yes, accommodation is allocated based on a preference form and a lottery system. However, due to limited spaces, most students choose to look for housing in the private sector, such as flats and houses in London. \n",
      "8. Question: What are the different libraries and study spaces available at UCL? \n",
      "Answer: There are libraries across the four campuses at UCL. The main library, the UCL Library at the Bloomsbury campus, consists of several branches, including the Archaeology and History Library, the Science Library, and the University Library Gallery. Other study spaces are scattered across campuses to accommodate diverse learning environments. \n",
      "9. Question: What sports facilities does University College London have? \n",
      "Answer: Sports facilities at UCL include indoor and outdoor sports tracks, gym facilities, football and rugby pitches, tennis courts, and basketball courts. The university also has a wide variety of sports societies that you can join. \n",
      "10. Question: What is the religious diversity like at UCL? \n",
      "Answer: UCL welcomes students and staff of all religions and beliefs and respects the religious observances of its community. Religious observance rooms are available on campus, and religious holidays of all faiths are celebrated through the year. \n",
      "\n",
      "11. Question: What careers services does UCL offer its students and alumni? \n",
      "Answer: UCL offers career counseling, networking events, internship opportunities, and recruitment fairs to help students and alumni launch their careers. The university's dedicated careers service offers consultations and workshops to help students tailor their CVs and cover letters, prepare for interviews, and learn essential job application skills. \n",
      "12. Question: What are some notable alumni and their achievements? \n",
      "Answer: UCL boasts many famous and influential alumni from various disciplines. From the political sphere, UCL's notable alumni include Anthony Eden (former British Prime Minister), Mai Bhurgri (activist and the first female Muslim judge in the UK), and Mohandas Karamchand Gandhi (Indian activist and leader of the Indian independence movement). UCL has also fostered numerous notable scientists, including the founders of the discipline of genetics, Francis Galton and Gregor Mendel. \n",
      "13. Question: How strong is University College London in different subject rankings? \n",
      "Answer: In the 2022 QS World University Rankings, UCL ranked 10th globally. It ranked 8th in the world in the QS World University Rankings by Subject 2022 in Archaeology, Anthropology, and Sociology, while Medicine and Engineering were ranked 11-16th and 18th-=22nd respectively. \n",
      "\n",
      "14. Question: How accessible is UCL for students with disabilities or specific learning difficulties? \n",
      "Answer: Accessibility is a key priority for UCL. They have a Disability, Accessibility, and Inclusivity Service dedicated to providing advice and support to students with disabilities, specific learning difficulties, mental health conditions, or any other impacting on their learning. This includes providing accommodations, assistive technologies, and access arrangements. \n",
      "\n",
      "15. Question: What is the demographic makeup of the student body at UCL? \n",
      "Answer: According to the university's 2022/2023 academic year fact file, approximately 61% of the student body is comprised of British students, with the remaining 39% coming from around 150 countries around the world. \n",
      "16. Question: What is the best way to get around London and get to/from the airport quickly and cheaply? \n",
      "Answer: The most convenient and affordable way to navigate London is via the Underground, using the Oyster Card for students. Oyster Cards offer a cheaper fare than paper tickets and are quick and easy to use. To travel to and from the various airports around London, the National Express is a reliable coach service many students use. \n",
      "17. Question: What is the best place to live for accommodation as a UCL student? \n",
      "Answer: The student neighborhoods nearest to the UCL campus are Euston, King's Cross, and Camden. Many students prefer these areas since they provide a blend of convenience and a vibrant international culture. These areas offer a wide variety of accommodation options, from more affluent areas to trendy, lively neighborhoods. \n",
      "\n",
      "18. Question: What are some essential student clubs and societies to join at UCL? \n",
      "Answer: There is a variety of societies and social groups at UCL, ranging from the academically focused to those centered on sports and recreation. UCL's drama society, the University Drama Society, also known as UdderBustion, is the oldest student drama society in the UK. The Union is home to over 150 diverse societies catering to a variety of interests and passions. \n",
      "\n",
      "19. Question: How popular is the University College London among applicants, and what is its acceptance rate? \n",
      "Answer: UCL is one of the most popular universities in the UK, attracting many talented and high-achieving applicants each year. While the exact acceptance rate is unknown, UCL is a highly selective university, with an approximate average acceptance rate of 18% across all courses. \n",
      "20. Question: How much is the tuition fee for international students at University College London? \n",
      "Answer: The tuition fee for international students at UCL varies depending on the course and level of study. However, international undergraduate students should expect to pay around £38,000 per year for most undergraduate programs. International graduate fees vary significantly depending on the program and are usually more expensive than undergraduate programs. \n",
      "\n",
      "These questions provide a broad overview of important aspects of UCL as an educational institution, and they cover relevant topics regarding student life, academics, and post-graduate prospects at this London university.\n",
      "\tconversation_id: None\n",
      "\tprompt: None\n",
      "\tchat_history: None\n",
      "\tpreamble: None\n",
      "\tclient: <cohere.client.Client object at 0x16c5aeaf0>\n",
      "\ttoken_count: {'prompt_tokens': 98, 'response_tokens': 1477, 'total_tokens': 1575, 'billed_tokens': 1564}\n",
      "\tmeta: {'api_version': {'version': '1'}, 'billed_units': {'input_tokens': 87, 'output_tokens': 1477}}\n",
      "\tis_search_required: None\n",
      "\tcitations: None\n",
      "\tdocuments: None\n",
      "\tsearch_results: None\n",
      "\tsearch_queries: None\n",
      "}\n"
     ]
    }
   ],
   "source": [
    "response = co.chat(\n",
    "    message=\"You're a helpful chatbot generating questions and answers for a given topic. Generate a list of 20 question and answer pairs about a university in London called University College London (UCL).\",\n",
    ")\n",
    "print(response)"
   ]
  },
  {
   "cell_type": "markdown",
   "metadata": {},
   "source": [
    "## Load OLMo 1B\n"
   ]
  },
  {
   "cell_type": "code",
   "execution_count": 5,
   "metadata": {},
   "outputs": [
    {
     "name": "stdout",
     "output_type": "stream",
     "text": [
      "UCL is a large-scale institution and is recognized for its outstanding undergraduate and graduate programs. The University has the perfect location, surrounded by some of the best shopping, dining and cultural attractions and is one of the fastest growing employers in Southern Arizona. The University of Central Utah offers over 80 undergraduate and 30 graduate degree programs, including business, communications, computer information systems, criminal justice, education, finance, law and public administration and more.\n",
      "We are looking for a highly-motivated individual who will support the\n"
     ]
    }
   ],
   "source": [
    "import hf_olmo\n",
    "\n",
    "from transformers import AutoModelForCausalLM, AutoTokenizer\n",
    "\n",
    "olmo = AutoModelForCausalLM.from_pretrained(\"allenai/OLMo-1B\", cache_dir=\".cache\")\n",
    "tokenizer = AutoTokenizer.from_pretrained(\"allenai/OLMo-1B\", cache_dir=\".cache\")\n",
    "# optional verifying cuda\n",
    "# inputs = {k: v.to('cuda') for k,v in inputs.items()}\n",
    "# olmo = olmo.to('cuda')"
   ]
  },
  {
   "cell_type": "code",
   "execution_count": 8,
   "metadata": {},
   "outputs": [
    {
     "name": "stdout",
     "output_type": "stream",
     "text": [
      "A university in London called UCL is offering an MSc in Global Media in collaboration with the UK’s University of Portsmouth. UCL is considered to be one of Britain’s top universities and this is an excellent addition to your university resume.\n",
      "So you have decided to go to university and you are going to study media at a world-leading university. Well, here are some of the best universities in the UK.\n",
      "1. University of Oxford: A university known for its high standards, the University of Oxford is\n"
     ]
    }
   ],
   "source": [
    "message = [\"A university in London called UCL is\"]\n",
    "inputs = tokenizer(message, return_tensors=\"pt\", return_token_type_ids=False)\n",
    "response = olmo.generate(\n",
    "    **inputs, max_new_tokens=100, do_sample=True, top_k=50, top_p=0.95\n",
    ")\n",
    "print(tokenizer.batch_decode(response, skip_special_tokens=True)[0])"
   ]
  },
  {
   "cell_type": "markdown",
   "metadata": {},
   "source": [
    "### Zero-shot use of OLMo\n",
    "\n",
    "Doesn't really work that well... Although maybe it just requires sampling more replies.\n"
   ]
  },
  {
   "cell_type": "code",
   "execution_count": 44,
   "metadata": {},
   "outputs": [
    {
     "name": "stdout",
     "output_type": "stream",
     "text": [
      "What are UCL's core strengths and research focus areas?\n",
      "Where does it feel like home?\n",
      "We are proud that UCL is internationally recognised for pioneering research in its core areas, from the natural and applied sciences and engineering to the social sciences and business. UCL’s teaching is ranked in the top 150 universities worldwide, according to the latest (QS, 2017) QS World University Rankings, and is an integral part of London life. It is home to the UK's second largest research enterprise, behind only the University of Oxford.\n",
      "\n"
     ]
    }
   ],
   "source": [
    "message = [\"What are UCL's core strengths and research focus areas?\"]\n",
    "inputs = tokenizer(message, return_tensors=\"pt\", return_token_type_ids=False)\n",
    "response = olmo.generate(\n",
    "    **inputs, max_new_tokens=100, do_sample=True, top_k=50, top_p=0.95\n",
    ")\n",
    "print(tokenizer.batch_decode(response, skip_special_tokens=True)[0])"
   ]
  },
  {
   "cell_type": "markdown",
   "metadata": {},
   "source": [
    "### Few-shot use of OLMo\n",
    "\n",
    "Seems to be working fairly ok!\n"
   ]
  },
  {
   "cell_type": "code",
   "execution_count": 42,
   "metadata": {},
   "outputs": [
    {
     "name": "stdout",
     "output_type": "stream",
     "text": [
      "You're a helpful chatbot answering questions in the following patter. Examples:###Question: What is the color of the sky?Answer: The color of the sky can vary depending on factors such as the time of day, weather conditions, and location. During the day, when the sun is shining, the sky often appears blue. However, during sunrise or sunset, the sky can take on shades of red, orange, pink, and purple. Additionally, weather conditions such as clouds and atmospheric particles can influence the color of the sky, leading to variations in hues and tones.###Question: What makes the USA a rich country?Answer: The USA is considered a rich country due to its diverse and advanced economy, technological innovation, natural resources, and a high standard of living.###Question: Where can I simultaneously see the Eiffel tower, pyramids and gamble in a casino?Answer: There is no single location where you can simultaneously see the Eiffel Tower, the pyramids, and gamble in a casino. However, you can visit Las Vegas, Nevada, USA, to experience a unique combination of attractions. In Las Vegas, you can find replicas of famous landmarks, including the Eiffel Tower at the Paris Las Vegas hotel and the Luxor Hotel, which is shaped like a pyramid.###Question: What are UCL's core strengths and research focus areas?Answer: UCL's core strengths and research focus areas include: (1) Applied Social Sciences, including sociology and social policy (2) Computer Science and Engineering, including the development of artificial intelligence, big data, and the Internet of Things (IoT) (3) Global Studies and International Affairs, including global economic and security affairs (4) Social Movements and Civil Society, including political mobilization and democratic engagement (5) Social Policy and Social Science (6) Social Justice and Inclusion and Social\n"
     ]
    }
   ],
   "source": [
    "message = [\n",
    "    \"You're a helpful chatbot answering questions in the following patter. Examples:\\\n",
    "###\\\n",
    "Question: What is the color of the sky?\\\n",
    "Answer: The color of the sky can vary depending on factors such as the time of day, weather conditions, and location. During the day, when the sun is shining, the sky often appears blue. However, during sunrise or sunset, the sky can take on shades of red, orange, pink, and purple. Additionally, weather conditions such as clouds and atmospheric particles can influence the color of the sky, leading to variations in hues and tones.\\\n",
    "###\\\n",
    "Question: What makes the USA a rich country?\\\n",
    "Answer: The USA is considered a rich country due to its diverse and advanced economy, technological innovation, natural resources, and a high standard of living.\\\n",
    "###\\\n",
    "Question: Where can I simultaneously see the Eiffel tower, pyramids and gamble in a casino?\\\n",
    "Answer: There is no single location where you can simultaneously see the Eiffel Tower, the pyramids, and gamble in a casino. However, you can visit Las Vegas, Nevada, USA, to experience a unique combination of attractions. In Las Vegas, you can find replicas of famous landmarks, including the Eiffel Tower at the Paris Las Vegas hotel and the Luxor Hotel, which is shaped like a pyramid.\\\n",
    "###\\\n",
    "Question: What are UCL's core strengths and research focus areas?\\\n",
    "Answer:\"\n",
    "]\n",
    "inputs = tokenizer(message, return_tensors=\"pt\", return_token_type_ids=False)\n",
    "response = olmo.generate(\n",
    "    **inputs, max_new_tokens=100, do_sample=True, top_k=50, top_p=0.95\n",
    ")\n",
    "print(tokenizer.batch_decode(response, skip_special_tokens=True)[0])"
   ]
  },
  {
   "cell_type": "code",
   "execution_count": null,
   "metadata": {},
   "outputs": [],
   "source": []
  }
 ],
 "metadata": {
  "kernelspec": {
   "display_name": "venv",
   "language": "python",
   "name": "python3"
  },
  "language_info": {
   "codemirror_mode": {
    "name": "ipython",
    "version": 3
   },
   "file_extension": ".py",
   "mimetype": "text/x-python",
   "name": "python",
   "nbconvert_exporter": "python",
   "pygments_lexer": "ipython3",
   "version": "3.9.6"
  }
 },
 "nbformat": 4,
 "nbformat_minor": 2
}
